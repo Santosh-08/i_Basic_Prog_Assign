{
 "cells": [
  {
   "cell_type": "markdown",
   "id": "9549c4dc",
   "metadata": {},
   "source": [
    "# Python Program to find sum of array"
   ]
  },
  {
   "cell_type": "code",
   "execution_count": 1,
   "id": "d2c58e50",
   "metadata": {},
   "outputs": [
    {
     "name": "stdout",
     "output_type": "stream",
     "text": [
      "sum is :  164\n"
     ]
    }
   ],
   "source": [
    "arr = [15, 22, 32, 43, 52];     \n",
    "sum = 0;    \n",
    "     \n",
    "for i in range(0, len(arr)):    \n",
    "   sum = sum + arr[i];    \n",
    "     \n",
    "print(\"sum is : \",sum)   "
   ]
  },
  {
   "cell_type": "markdown",
   "id": "f70f2c47",
   "metadata": {},
   "source": [
    "# Python Program to find largest element in an array"
   ]
  },
  {
   "cell_type": "code",
   "execution_count": null,
   "id": "dfe0d969",
   "metadata": {},
   "outputs": [],
   "source": [
    "arr = [100,256,1201,1117,739,5333];     \n",
    "    \n",
    "max = arr[0];    \n",
    "\n",
    "for i in range(0, len(arr)):    \n",
    "  \n",
    "   if(arr[i] > max):    \n",
    "       max = arr[i];    \n",
    "print(\"Largest element in given array = \" + str(max));   "
   ]
  },
  {
   "cell_type": "markdown",
   "id": "9c574b69",
   "metadata": {},
   "source": [
    "# Python Program for array rotation"
   ]
  },
  {
   "cell_type": "code",
   "execution_count": 20,
   "id": "232189ae",
   "metadata": {},
   "outputs": [
    {
     "name": "stdout",
     "output_type": "stream",
     "text": [
      "Enter Elements 1 2 3 \n",
      "Array elements before rotation  1 2 3\n",
      "Array elements  after rotation   2 3 1\n"
     ]
    }
   ],
   "source": [
    "a = list(map(int,input(\"Enter Elements \").split()))\n",
    "\n",
    "print(\"Array elements before rotation \",*a)\n",
    "x=x%len(a)\n",
    "for i in range(k):\n",
    "    y=a.pop(0)\n",
    "    a.append(y)\n",
    "print(\"Array elements  after rotation  \",*a)\n"
   ]
  },
  {
   "cell_type": "markdown",
   "id": "4243a11b",
   "metadata": {},
   "source": [
    "# Python Program to Split the array and add the first part to the end"
   ]
  },
  {
   "cell_type": "code",
   "execution_count": 1,
   "id": "ab81986d",
   "metadata": {},
   "outputs": [
    {
     "name": "stdout",
     "output_type": "stream",
     "text": [
      "enter split no: 5\n",
      "6 7 8 9 10 11 12 1 2 3 4 5 "
     ]
    }
   ],
   "source": [
    "def splitArr(arr, a, b):\n",
    "    for i in range(0, b):\n",
    "        x = arr[0]\n",
    "        for j in range(0, a-1):\n",
    "            arr[j] = arr[j + 1]\n",
    "\n",
    "        arr[a-1] = x\n",
    "\n",
    "arr = [1,2,3,4,5,6,7,8,9,10,11,12]\n",
    "a = len(arr)\n",
    "position = int(input(\"enter split no: \"))\n",
    "\n",
    "splitArr(arr, a, position)\n",
    "\n",
    "for i in range(0, a):\n",
    "    print(arr[i], end = ' ')"
   ]
  },
  {
   "cell_type": "markdown",
   "id": "7d1ff3f7",
   "metadata": {},
   "source": [
    "# Python Program to check if given array is Monotonic"
   ]
  },
  {
   "cell_type": "code",
   "execution_count": 2,
   "id": "aff7f59a",
   "metadata": {},
   "outputs": [
    {
     "name": "stdout",
     "output_type": "stream",
     "text": [
      "True\n"
     ]
    }
   ],
   "source": [
    "def monotonic(arry):\n",
    "    n = len(arry)\n",
    "    return (all(arry[i]<=arry[i+1] for i in range(n-1)) or\n",
    "            all(arry[i]>=arry[i+1] for i in range(n-1)))\n",
    "arry = [6, 5, 4, 3, 2]\n",
    "\n",
    "print(monotonic(arry))"
   ]
  },
  {
   "cell_type": "code",
   "execution_count": null,
   "id": "3723d9b6",
   "metadata": {},
   "outputs": [],
   "source": []
  },
  {
   "cell_type": "code",
   "execution_count": null,
   "id": "6bdc98af",
   "metadata": {},
   "outputs": [],
   "source": []
  }
 ],
 "metadata": {
  "kernelspec": {
   "display_name": "Python 3",
   "language": "python",
   "name": "python3"
  },
  "language_info": {
   "codemirror_mode": {
    "name": "ipython",
    "version": 3
   },
   "file_extension": ".py",
   "mimetype": "text/x-python",
   "name": "python",
   "nbconvert_exporter": "python",
   "pygments_lexer": "ipython3",
   "version": "3.8.8"
  }
 },
 "nbformat": 4,
 "nbformat_minor": 5
}
