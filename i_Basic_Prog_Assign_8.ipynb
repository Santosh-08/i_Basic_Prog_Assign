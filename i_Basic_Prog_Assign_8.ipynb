{
 "cells": [
  {
   "cell_type": "markdown",
   "id": "c8ab3ca2",
   "metadata": {},
   "source": [
    "# Python Program to Add Two Matrices"
   ]
  },
  {
   "cell_type": "code",
   "execution_count": 1,
   "id": "b5d47162",
   "metadata": {},
   "outputs": [
    {
     "name": "stdout",
     "output_type": "stream",
     "text": [
      "[3, 13, 10]\n",
      "[4, 2, 13]\n",
      "[16, 9, 9]\n"
     ]
    }
   ],
   "source": [
    "a = [[2, 5, 7],\n",
    "      [0, 1, 7],\n",
    "      [9, 1, 8]]\n",
    "\n",
    "\n",
    "b = [[1, 8, 3],\n",
    "      [4, 1, 6],\n",
    "      [7, 8, 1]]\n",
    "\n",
    "sum = [[0, 0, 0],\n",
    "       [0, 0, 0],\n",
    "       [0, 0, 0]]\n",
    "\n",
    "for i in range(len(a)):\n",
    "    for j in range(len(a[0])):\n",
    "        sum[i][j] = a[i][j] + b[i][j]\n",
    "\n",
    "for num in sum:\n",
    "    print(num)"
   ]
  },
  {
   "cell_type": "markdown",
   "id": "98d165a7",
   "metadata": {},
   "source": [
    "# Python Program to Multiply Two Matrices"
   ]
  },
  {
   "cell_type": "code",
   "execution_count": 3,
   "id": "523bc9f2",
   "metadata": {},
   "outputs": [
    {
     "name": "stdout",
     "output_type": "stream",
     "text": [
      "[2, 40, 21]\n",
      "[0, 1, 42]\n",
      "[63, 8, 8]\n"
     ]
    }
   ],
   "source": [
    "a = [[2, 5, 7],\n",
    "      [0, 1, 7],\n",
    "      [9, 1, 8]]\n",
    "\n",
    "\n",
    "b = [[1, 8, 3],\n",
    "      [4, 1, 6],\n",
    "      [7, 8, 1]]\n",
    "\n",
    "mul = [[0, 0, 0],\n",
    "       [0, 0, 0],\n",
    "       [0, 0, 0]]\n",
    "\n",
    "for i in range(len(a)):\n",
    "    for j in range(len(a[0])):\n",
    "        mul[i][j] = a[i][j] * b[i][j]\n",
    "\n",
    "for num in mul:\n",
    "    print(num)"
   ]
  },
  {
   "cell_type": "markdown",
   "id": "8c2cd8a4",
   "metadata": {},
   "source": [
    "# Python Program to Transpose a Matrix"
   ]
  },
  {
   "cell_type": "code",
   "execution_count": 7,
   "id": "112cf5a9",
   "metadata": {},
   "outputs": [
    {
     "name": "stdout",
     "output_type": "stream",
     "text": [
      "[21, 11, 5]\n",
      "[3, 5, 2]\n"
     ]
    }
   ],
   "source": [
    "X = [[21, 3], [11,5], [5, 2]]\n",
    "\n",
    "result = [0, 0, 0], [0, 0, 0]\n",
    "\n",
    "for i in range (len (X)):\n",
    "              for j in range (len (X[0])):\n",
    "                             result [j][i] = X [i][j]\n",
    "for a in result:\n",
    "              print (a)"
   ]
  },
  {
   "cell_type": "markdown",
   "id": "0b1b8612",
   "metadata": {},
   "source": [
    "# Python Program to Sort Words in Alphabetic Order"
   ]
  },
  {
   "cell_type": "code",
   "execution_count": 10,
   "id": "5e4cc255",
   "metadata": {},
   "outputs": [
    {
     "name": "stdout",
     "output_type": "stream",
     "text": [
      "Great,\n",
      "India\n",
      "culture\n",
      "is\n"
     ]
    }
   ],
   "source": [
    "str = \"India is Great, culture\"\n",
    "\n",
    "words = str.split()\n",
    "\n",
    "words.sort()\n",
    "\n",
    "for word in words:\n",
    "    print(word)"
   ]
  },
  {
   "cell_type": "markdown",
   "id": "f654389b",
   "metadata": {},
   "source": [
    "# Python Program to Remove Punctuation From a String"
   ]
  },
  {
   "cell_type": "code",
   "execution_count": 15,
   "id": "b910f7f7",
   "metadata": {},
   "outputs": [
    {
     "name": "stdout",
     "output_type": "stream",
     "text": [
      "Enter a string: \"Data Science\"\n",
      "Data Science\n"
     ]
    }
   ],
   "source": [
    "punctuations = '''!()-[]{};:'\"\\,<>./?@#$%^&*_~'''\n",
    " \n",
    "strg = input(\"Enter a string: \")\n",
    " \n",
    "no_punct = \"\"\n",
    "for char in strg:\n",
    "       if char not in punctuations:\n",
    "               no_punct = no_punct + char\n",
    " \n",
    "print(no_punct)"
   ]
  },
  {
   "cell_type": "code",
   "execution_count": null,
   "id": "c76df77b",
   "metadata": {},
   "outputs": [],
   "source": []
  }
 ],
 "metadata": {
  "kernelspec": {
   "display_name": "Python 3",
   "language": "python",
   "name": "python3"
  },
  "language_info": {
   "codemirror_mode": {
    "name": "ipython",
    "version": 3
   },
   "file_extension": ".py",
   "mimetype": "text/x-python",
   "name": "python",
   "nbconvert_exporter": "python",
   "pygments_lexer": "ipython3",
   "version": "3.8.8"
  }
 },
 "nbformat": 4,
 "nbformat_minor": 5
}
