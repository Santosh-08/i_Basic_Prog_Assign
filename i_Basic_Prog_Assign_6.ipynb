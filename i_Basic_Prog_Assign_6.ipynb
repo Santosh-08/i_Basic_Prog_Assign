{
 "cells": [
  {
   "cell_type": "markdown",
   "id": "dc15a442",
   "metadata": {},
   "source": [
    "# Python Program to Display Fibonacci Sequence Using Recursion"
   ]
  },
  {
   "cell_type": "code",
   "execution_count": 3,
   "id": "397a0541",
   "metadata": {},
   "outputs": [
    {
     "name": "stdout",
     "output_type": "stream",
     "text": [
      "Enter the Num: 6\n",
      "1\n",
      "1\n",
      "2\n",
      "3\n",
      "5\n",
      "8\n"
     ]
    }
   ],
   "source": [
    "def fib(Enter_Value):\n",
    "    if Enter_Value == 1 or Enter_Value == 2:\n",
    "        return 1 \n",
    "    else:\n",
    "        return(fib(Enter_Value-1) + fib(Enter_Value-2))\n",
    "        \n",
    "Enter_Value = int(input(\"Enter the Num: \"))\n",
    "for i in range(1,Enter_Value+1):\n",
    "    print(fib(i))"
   ]
  },
  {
   "cell_type": "markdown",
   "id": "3d3edf91",
   "metadata": {},
   "source": [
    "# Python Program to Find Factorial of Number Using Recursion"
   ]
  },
  {
   "cell_type": "code",
   "execution_count": 7,
   "id": "8382b807",
   "metadata": {},
   "outputs": [
    {
     "name": "stdout",
     "output_type": "stream",
     "text": [
      "Enter the Num: 25\n",
      "The factorial of 25 is 15511210043330985984000000\n"
     ]
    }
   ],
   "source": [
    "def recur_factorial(n):\n",
    "   if n == 1:\n",
    "       return n\n",
    "   else:\n",
    "       return n*recur_factorial(n-1)\n",
    "\n",
    "num = int(input(\"Enter the Num: \"))\n",
    "\n",
    "print(\"The factorial of\", num, \"is\", recur_factorial(num))"
   ]
  },
  {
   "cell_type": "markdown",
   "id": "f2889661",
   "metadata": {},
   "source": [
    "# Python Program to calculate your Body Mass Index"
   ]
  },
  {
   "cell_type": "code",
   "execution_count": 2,
   "id": "212c3667",
   "metadata": {},
   "outputs": [
    {
     "name": "stdout",
     "output_type": "stream",
     "text": [
      "Enter height in meters: 36\n",
      "Enter weight in kg: 45\n",
      "Your BMI is:  0.034722222222222224\n"
     ]
    }
   ],
   "source": [
    "height = float(input(\"Enter height in meters: \"))\n",
    "weight = float(input(\"Enter weight in kg: \"))\n",
    "\n",
    "bmi = weight/(height**2) \n",
    "\n",
    "print(\"Your BMI is: \" , bmi)"
   ]
  },
  {
   "cell_type": "markdown",
   "id": "d8e5b8be",
   "metadata": {},
   "source": [
    "# Python Program to calculate the natural logarithm of any number"
   ]
  },
  {
   "cell_type": "code",
   "execution_count": 11,
   "id": "5da70a58",
   "metadata": {},
   "outputs": [
    {
     "name": "stdout",
     "output_type": "stream",
     "text": [
      "Enter the number: 6\n",
      "The value is: 1.791759469228055\n"
     ]
    }
   ],
   "source": [
    "import math\n",
    "\n",
    "num = int(input(\"Enter the number: \"))\n",
    "\n",
    "ans = math.log(num)\n",
    "\n",
    "print(\"The value is:\",ans)"
   ]
  },
  {
   "cell_type": "markdown",
   "id": "20d6ad94",
   "metadata": {},
   "source": [
    "# Python Program for cube sum of first n natural numbers"
   ]
  },
  {
   "cell_type": "code",
   "execution_count": 5,
   "id": "8a446f4d",
   "metadata": {},
   "outputs": [
    {
     "name": "stdout",
     "output_type": "stream",
     "text": [
      "enter n: 6\n",
      "441\n"
     ]
    }
   ],
   "source": [
    "def CubeSum(n):\n",
    "    s=0\n",
    "    for i in range(n+1):\n",
    "        s+=i**3\n",
    "    return s\n",
    "n=int(input(\"enter n: \"))\n",
    "print(CubeSum(n))"
   ]
  },
  {
   "cell_type": "code",
   "execution_count": null,
   "id": "9533fbbe",
   "metadata": {},
   "outputs": [],
   "source": []
  }
 ],
 "metadata": {
  "kernelspec": {
   "display_name": "Python 3",
   "language": "python",
   "name": "python3"
  },
  "language_info": {
   "codemirror_mode": {
    "name": "ipython",
    "version": 3
   },
   "file_extension": ".py",
   "mimetype": "text/x-python",
   "name": "python",
   "nbconvert_exporter": "python",
   "pygments_lexer": "ipython3",
   "version": "3.8.8"
  }
 },
 "nbformat": 4,
 "nbformat_minor": 5
}
