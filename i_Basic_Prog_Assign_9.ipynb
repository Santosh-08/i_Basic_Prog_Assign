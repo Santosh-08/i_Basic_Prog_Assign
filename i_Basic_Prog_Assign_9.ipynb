{
 "cells": [
  {
   "cell_type": "markdown",
   "id": "c4b3cc65",
   "metadata": {},
   "source": [
    "# Python program to check if the given number is a Disarium Number"
   ]
  },
  {
   "cell_type": "code",
   "execution_count": 12,
   "id": "8cfcaffa",
   "metadata": {},
   "outputs": [
    {
     "name": "stdout",
     "output_type": "stream",
     "text": [
      "175\n",
      "Disarium\n"
     ]
    }
   ],
   "source": [
    "def digits(n):\n",
    "    l=0\n",
    "    while(n>0):\n",
    "        n=n//10\n",
    "        l=l+1\n",
    "    return l\n",
    "def Disarium(x,n):\n",
    "    Sum=0\n",
    "    while(n>0):\n",
    "        r=n%10\n",
    "        Sum=Sum+(r**x)\n",
    "        x=x-1\n",
    "        n=n//10\n",
    "    return Sum\n",
    "n=int(input())\n",
    "x=digits(n)\n",
    "m=Disarium(x,n)\n",
    "if(m==n):\n",
    "    print(\"Disarium\")\n",
    "else:\n",
    "    print(\"Not Disarium\")"
   ]
  },
  {
   "cell_type": "code",
   "execution_count": null,
   "id": "4f090e6e",
   "metadata": {},
   "outputs": [],
   "source": []
  },
  {
   "cell_type": "code",
   "execution_count": null,
   "id": "26706515",
   "metadata": {},
   "outputs": [],
   "source": []
  },
  {
   "cell_type": "markdown",
   "id": "a76d45c5",
   "metadata": {},
   "source": [
    "# Python program to print all disarium numbers between 1 to 100"
   ]
  },
  {
   "cell_type": "code",
   "execution_count": 2,
   "id": "ee7accc9",
   "metadata": {},
   "outputs": [
    {
     "name": "stdout",
     "output_type": "stream",
     "text": [
      "Disarium numbers between 1 and 100 are\n",
      "1\n",
      "2\n",
      "3\n",
      "4\n",
      "5\n",
      "6\n",
      "7\n",
      "8\n",
      "9\n",
      "89\n",
      "135\n",
      "175\n"
     ]
    }
   ],
   "source": [
    "def Length(n):    \n",
    "    length = 0;    \n",
    "    while(n != 0):                    \n",
    "        length = length + 1;    \n",
    "        n = n//10;    \n",
    "    return length;    \n",
    "     \n",
    "def sumno(num):    \n",
    "    rem = sum = 0;    \n",
    "    len = Length(num);     \n",
    "        \n",
    "    while(num > 0):    \n",
    "        rem = num%10;   \n",
    "        sum = sum + (rem**len);    \n",
    "        num = num//10;    \n",
    "        len = len - 1;    \n",
    "    return sum;    \n",
    "      \n",
    "result = 0;    \n",
    "     \n",
    "\n",
    "print(\"Disarium numbers between 1 and 100 are\");    \n",
    "for i in range(1, 200):           \n",
    "    result = sumno(i);    \n",
    "        \n",
    "    if(result == i):    \n",
    "        print(i)   "
   ]
  },
  {
   "cell_type": "markdown",
   "id": "ee08b3c7",
   "metadata": {},
   "source": [
    "# Python program to check if the given number is Happy Number"
   ]
  },
  {
   "cell_type": "code",
   "execution_count": 3,
   "id": "955750e9",
   "metadata": {},
   "outputs": [
    {
     "name": "stdout",
     "output_type": "stream",
     "text": [
      "Enter a number:37\n",
      "It is  an Unhappy Number.\n"
     ]
    }
   ],
   "source": [
    "num=float(input(\"Enter a number:\"))\n",
    "sum=0\n",
    "while sum != 1 and sum != 4:\n",
    "    sum=0\n",
    "    while num!=0:\n",
    "        rem = num % 10\n",
    "        sum += (rem*rem)\n",
    "        num //= 10\n",
    "    num=sum\n",
    "\n",
    "if sum==1:\n",
    "    print(\"It is a Happy Number.\")\n",
    "else:\n",
    "    print(\"It is  an Unhappy Number.\")\n"
   ]
  },
  {
   "cell_type": "markdown",
   "id": "eae2a460",
   "metadata": {},
   "source": [
    "# Python program to print all happy numbers between 1 and 100"
   ]
  },
  {
   "cell_type": "code",
   "execution_count": 5,
   "id": "3b0a81a0",
   "metadata": {},
   "outputs": [
    {
     "name": "stdout",
     "output_type": "stream",
     "text": [
      "Enter a range:\n",
      "100\n",
      "200\n",
      "Happy numbers between  100  and  200  are: \n",
      "100 103 109 129 130 133 139 167 176 188 190 192 193 "
     ]
    }
   ],
   "source": [
    "print(\"Enter a range:\")\n",
    "range1=int(input())\n",
    "range2=int(input())\n",
    "print(\"Happy numbers between \",range1,\" and \",range2,\" are: \")\n",
    "for i in range(range1,range2+1):\n",
    "    num=i\n",
    "    sum=0\n",
    "    while sum != 1 and sum != 4:\n",
    "        sum = 0\n",
    "        while num != 0:\n",
    "            rem = num % 10\n",
    "            sum += (rem * rem)\n",
    "            num //= 10\n",
    "        num = sum\n",
    "\n",
    "    if sum == 1:\n",
    "        print(i,end=\" \")"
   ]
  },
  {
   "cell_type": "markdown",
   "id": "2b645474",
   "metadata": {},
   "source": [
    "# Python program to determine whether the given number is a Harshad Number"
   ]
  },
  {
   "cell_type": "code",
   "execution_count": 23,
   "id": "e74e020d",
   "metadata": {},
   "outputs": [
    {
     "name": "stdout",
     "output_type": "stream",
     "text": [
      "Enter num: 25\n",
      "Not Harshad\n"
     ]
    }
   ],
   "source": [
    "num = int(input(\"Enter num: \"))\n",
    "\n",
    "tem=num\n",
    "\n",
    "sum=0\n",
    "while num>0:\n",
    "  rem = num%10\n",
    "  sum += r\n",
    "  num //= 10\n",
    "\n",
    "\n",
    "if tem%sum==0:\n",
    "  print(\"Harshad\")\n",
    "else:\n",
    "  print(\"Not Harshad\")"
   ]
  },
  {
   "cell_type": "markdown",
   "id": "1a353619",
   "metadata": {},
   "source": [
    "# Python program to print all pronic numbers between 1 and 100"
   ]
  },
  {
   "cell_type": "code",
   "execution_count": 4,
   "id": "4164167b",
   "metadata": {},
   "outputs": [
    {
     "name": "stdout",
     "output_type": "stream",
     "text": [
      "Enter a range:\n",
      "Enter lower range100\n",
      "Enter upper range200\n",
      "Pronic numbers between  100  and  200  are: \n",
      "110 132 156 182 "
     ]
    }
   ],
   "source": [
    "import math\n",
    "print(\"Enter a range:\")\n",
    "lrange=int(input(\"Enter lower range\"))\n",
    "urange=int(input(\"Enter upper range\"))\n",
    "print(\"Pronic numbers between \",lrange,\" and \",urange,\" are: \")\n",
    "for i in range(lrange,urange+1):\n",
    "    flag = 0\n",
    "    for j in range(0, i + 1):\n",
    "        if j * (j + 1) == i:\n",
    "            flag = 1\n",
    "            break\n",
    "    if flag == 1:\n",
    "        print(i,end=\" \")"
   ]
  },
  {
   "cell_type": "code",
   "execution_count": null,
   "id": "9a58764e",
   "metadata": {},
   "outputs": [],
   "source": []
  }
 ],
 "metadata": {
  "kernelspec": {
   "display_name": "Python 3",
   "language": "python",
   "name": "python3"
  },
  "language_info": {
   "codemirror_mode": {
    "name": "ipython",
    "version": 3
   },
   "file_extension": ".py",
   "mimetype": "text/x-python",
   "name": "python",
   "nbconvert_exporter": "python",
   "pygments_lexer": "ipython3",
   "version": "3.8.8"
  }
 },
 "nbformat": 4,
 "nbformat_minor": 5
}
