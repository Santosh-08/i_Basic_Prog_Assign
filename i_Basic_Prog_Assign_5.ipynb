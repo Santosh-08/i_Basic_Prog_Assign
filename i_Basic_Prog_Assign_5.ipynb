{
 "cells": [
  {
   "cell_type": "markdown",
   "id": "24ce564c",
   "metadata": {},
   "source": [
    "# Python Program to Find LCM"
   ]
  },
  {
   "cell_type": "code",
   "execution_count": 3,
   "id": "f063ac10",
   "metadata": {},
   "outputs": [
    {
     "name": "stdout",
     "output_type": "stream",
     "text": [
      "Enter first no. = 36\n",
      "Enter second no. =6\n",
      "LCM is 36\n"
     ]
    }
   ],
   "source": [
    "num1 = int(input(\"Enter first no. = \"))\n",
    "num2 = int(input(\"Enter second no. =\"))\n",
    "if(num1 > num2 ):   \n",
    "    max= num1\n",
    "else:\n",
    "    max= num2\n",
    "while(True):\n",
    "    if(max % num1 == 0 and max % num2 == 0):   \n",
    "        print(\"LCM is\", max)\n",
    "        break;\n",
    "    max= max+ 1"
   ]
  },
  {
   "cell_type": "markdown",
   "id": "86c1e83b",
   "metadata": {},
   "source": [
    "# Python Program to Find HCF"
   ]
  },
  {
   "cell_type": "code",
   "execution_count": 7,
   "id": "5cb6ed06",
   "metadata": {},
   "outputs": [
    {
     "name": "stdout",
     "output_type": "stream",
     "text": [
      "Enter first number: 36\n",
      "Enter second number: 100\n",
      "The H.C.F. of 36 and 100 is 4\n"
     ]
    }
   ],
   "source": [
    "x = int(input(\"Enter first number: \"))  \n",
    "y = int(input(\"Enter second number: \"))  \n",
    "if x > y:  \n",
    "    smaller = y  \n",
    "else:  \n",
    "    smaller = x  \n",
    "for i in range(1,smaller + 1):  \n",
    "    if((x % i == 0) and (y % i == 0)):  \n",
    "        hcf = i  \n",
    "\n",
    "print(\"The H.C.F. of\", x,\"and\", y,\"is\", hcf)  "
   ]
  },
  {
   "cell_type": "markdown",
   "id": "653c720f",
   "metadata": {},
   "source": [
    "# Python Program to Convert Decimal to Binary, Octal and Hexadecimal"
   ]
  },
  {
   "cell_type": "code",
   "execution_count": 9,
   "id": "1cd38673",
   "metadata": {},
   "outputs": [
    {
     "name": "stdout",
     "output_type": "stream",
     "text": [
      "Enter an integer: 33\n",
      "The decimal value of 33 is:\n",
      "0b100001 in binary.\n",
      "0o41 in octal.\n",
      "0x21 in hexadecimal.\n"
     ]
    }
   ],
   "source": [
    "decimal = int(input(\"Enter an integer: \"))\n",
    "print(\"The decimal value of\",decimal,\"is:\")\n",
    "print(bin(decimal),\"in binary.\")\n",
    "print(oct(decimal),\"in octal.\")\n",
    "print(hex(decimal),\"in hexadecimal.\")"
   ]
  },
  {
   "cell_type": "markdown",
   "id": "1aac4c69",
   "metadata": {},
   "source": [
    "# Python Program To Find ASCII value of a character"
   ]
  },
  {
   "cell_type": "code",
   "execution_count": 12,
   "id": "174a7830",
   "metadata": {},
   "outputs": [
    {
     "name": "stdout",
     "output_type": "stream",
     "text": [
      "Please enter a character: a\n",
      "The ASCII value of 'a' is  97\n"
     ]
    }
   ],
   "source": [
    "Char = input(\"Please enter a character: \")    \n",
    "    \n",
    "print (\"The ASCII value of '\" + Char + \"' is \", ord(Char))  "
   ]
  },
  {
   "cell_type": "markdown",
   "id": "f0adda64",
   "metadata": {},
   "source": [
    "# Python Program to Make a Simple Calculator with 4 basic mathematical operations"
   ]
  },
  {
   "cell_type": "code",
   "execution_count": 14,
   "id": "a8a13539",
   "metadata": {},
   "outputs": [
    {
     "name": "stdout",
     "output_type": "stream",
     "text": [
      "first number2\n",
      "second number3\n",
      "do you want to multiply, minus, divide or add? (x,-,/,+)+\n",
      "5\n"
     ]
    }
   ],
   "source": [
    "x = float(input(\"first number\"))\n",
    "y = float(input(\"second number\"))\n",
    "z = input(\"do you want to multiply, minus, divide or add? (x,-,/,+)\")\n",
    "\n",
    "y = int(y)\n",
    "x = int(x)\n",
    "\n",
    "if z == \"+\":\n",
    "    print (x + y)\n",
    "\n",
    "if z == \"/\":\n",
    "    print (x / y)\n",
    "\n",
    "if z == \"x\":\n",
    "    print (x * y)\n",
    "\n",
    "if z == \"-\":\n",
    "    print (x - y)\n"
   ]
  },
  {
   "cell_type": "code",
   "execution_count": null,
   "id": "5183ef68",
   "metadata": {},
   "outputs": [],
   "source": []
  }
 ],
 "metadata": {
  "kernelspec": {
   "display_name": "Python 3",
   "language": "python",
   "name": "python3"
  },
  "language_info": {
   "codemirror_mode": {
    "name": "ipython",
    "version": 3
   },
   "file_extension": ".py",
   "mimetype": "text/x-python",
   "name": "python",
   "nbconvert_exporter": "python",
   "pygments_lexer": "ipython3",
   "version": "3.8.8"
  }
 },
 "nbformat": 4,
 "nbformat_minor": 5
}
